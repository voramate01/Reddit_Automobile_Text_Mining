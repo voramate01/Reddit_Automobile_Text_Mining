{
 "cells": [
  {
   "cell_type": "code",
   "execution_count": null,
   "metadata": {},
   "outputs": [],
   "source": [
    "# Transfer time"
   ]
  },
  {
   "cell_type": "code",
   "execution_count": 14,
   "metadata": {},
   "outputs": [],
   "source": [
    "import pandas as pd\n",
    "import pandas as pd\n",
    "import numpy as np\n",
    "import os\n",
    "import warnings\n",
    "warnings.filterwarnings('ignore')"
   ]
  },
  {
   "cell_type": "code",
   "execution_count": 39,
   "metadata": {},
   "outputs": [
    {
     "data": {
      "text/plain": [
       "['Benz.csv', 'Leaf.csv', 'BMW.csv', 'Audi.csv', 'Tesla.csv', 'Bolt.csv']"
      ]
     },
     "execution_count": 39,
     "metadata": {},
     "output_type": "execute_result"
    }
   ],
   "source": [
    "path = os.getcwd()\n",
    "file_name_list = []\n",
    "for file in os.listdir('.'):\n",
    "    if file.endswith('.csv'):\n",
    "        file_name_list.append(file)\n",
    "file_name_list"
   ]
  },
  {
   "cell_type": "code",
   "execution_count": null,
   "metadata": {},
   "outputs": [],
   "source": [
    "for i in file_name_list:\n",
    "    # Read CSV\n",
    "    df = pd.read_csv(i, sep=',')\n",
    "    # Remove useless value '[]'\n",
    "    df = df[df.time != '[]']\n",
    "    # Remove missing value\n",
    "    df = df.dropna(subset=['time'])\n",
    "    # Transfer the data to integer\n",
    "    df['time'] = df['time'].apply(lambda x: int(float(x)))\n",
    "    # Transfer the data to a corresponding time\n",
    "    df['time'] = df['time'].apply(lambda x: pd.to_datetime(x, unit='s'))\n",
    "    # Updata the CSV\n",
    "    df.to_csv(i,index=False)"
   ]
  },
  {
   "cell_type": "code",
   "execution_count": 41,
   "metadata": {},
   "outputs": [],
   "source": [
    "from afinn import Afinn\n",
    "af = Afinn()"
   ]
  },
  {
   "cell_type": "code",
   "execution_count": 109,
   "metadata": {},
   "outputs": [],
   "source": [
    "Bolt = pd.read_csv('Bolt.csv',sep=',')\n",
    "Leaf = pd.read_csv('Leaf.csv',sep=',')\n",
    "Tesla = pd.read_csv('Tesla.csv',sep=',')\n"
   ]
  },
  {
   "cell_type": "code",
   "execution_count": 196,
   "metadata": {},
   "outputs": [],
   "source": [
    "Tesla = pd.read_csv('Tesla_Eric.csv',sep=',')"
   ]
  },
  {
   "cell_type": "code",
   "execution_count": 197,
   "metadata": {},
   "outputs": [
    {
     "data": {
      "text/html": [
       "<div>\n",
       "<style scoped>\n",
       "    .dataframe tbody tr th:only-of-type {\n",
       "        vertical-align: middle;\n",
       "    }\n",
       "\n",
       "    .dataframe tbody tr th {\n",
       "        vertical-align: top;\n",
       "    }\n",
       "\n",
       "    .dataframe thead th {\n",
       "        text-align: right;\n",
       "    }\n",
       "</style>\n",
       "<table border=\"1\" class=\"dataframe\">\n",
       "  <thead>\n",
       "    <tr style=\"text-align: right;\">\n",
       "      <th></th>\n",
       "      <th>comment</th>\n",
       "      <th>comment_id</th>\n",
       "      <th>post_id</th>\n",
       "      <th>post_time</th>\n",
       "      <th>post_title</th>\n",
       "      <th>time</th>\n",
       "      <th>month</th>\n",
       "    </tr>\n",
       "  </thead>\n",
       "  <tbody>\n",
       "    <tr>\n",
       "      <td>0</td>\n",
       "      <td>reminder include price wall connector include ...</td>\n",
       "      <td>epkqq0x</td>\n",
       "      <td>bv2t27</td>\n",
       "      <td>1.559275e+09</td>\n",
       "      <td>Australian model 3 Configurator is live!</td>\n",
       "      <td>2019-05-31</td>\n",
       "      <td>5</td>\n",
       "    </tr>\n",
       "    <tr>\n",
       "      <td>1</td>\n",
       "      <td>blue performance model confirm</td>\n",
       "      <td>epkl3uo</td>\n",
       "      <td>bv2t27</td>\n",
       "      <td>1.559275e+09</td>\n",
       "      <td>Australian model 3 Configurator is live!</td>\n",
       "      <td>2019-05-31</td>\n",
       "      <td>5</td>\n",
       "    </tr>\n",
       "    <tr>\n",
       "      <td>2</td>\n",
       "      <td>live too base same option same delivery estima...</td>\n",
       "      <td>epklx56</td>\n",
       "      <td>bv2t27</td>\n",
       "      <td>1.559275e+09</td>\n",
       "      <td>Australian model 3 Configurator is live!</td>\n",
       "      <td>2019-05-31</td>\n",
       "      <td>5</td>\n",
       "    </tr>\n",
       "    <tr>\n",
       "      <td>3</td>\n",
       "      <td>congrat come pretty soon too sadly can fork ri...</td>\n",
       "      <td>epklo12</td>\n",
       "      <td>bv2t27</td>\n",
       "      <td>1.559275e+09</td>\n",
       "      <td>Australian model 3 Configurator is live!</td>\n",
       "      <td>2019-05-31</td>\n",
       "      <td>5</td>\n",
       "    </tr>\n",
       "    <tr>\n",
       "      <td>4</td>\n",
       "      <td>standard range autopilot come well luxury car ...</td>\n",
       "      <td>epklvos</td>\n",
       "      <td>bv2t27</td>\n",
       "      <td>1.559275e+09</td>\n",
       "      <td>Australian model 3 Configurator is live!</td>\n",
       "      <td>2019-05-31</td>\n",
       "      <td>5</td>\n",
       "    </tr>\n",
       "    <tr>\n",
       "      <td>...</td>\n",
       "      <td>...</td>\n",
       "      <td>...</td>\n",
       "      <td>...</td>\n",
       "      <td>...</td>\n",
       "      <td>...</td>\n",
       "      <td>...</td>\n",
       "      <td>...</td>\n",
       "    </tr>\n",
       "    <tr>\n",
       "      <td>356985</td>\n",
       "      <td>mid when switch then wording where say pricing...</td>\n",
       "      <td>ehj8nkn</td>\n",
       "      <td>aw0ve0</td>\n",
       "      <td>1.551417e+09</td>\n",
       "      <td>It looks like the purchase button has just bee...</td>\n",
       "      <td>2019-03-01</td>\n",
       "      <td>3</td>\n",
       "    </tr>\n",
       "    <tr>\n",
       "      <td>356986</td>\n",
       "      <td>promise past will free hardware upgrade buy now</td>\n",
       "      <td>ehj9mwp</td>\n",
       "      <td>aw0ve0</td>\n",
       "      <td>1.551417e+09</td>\n",
       "      <td>It looks like the purchase button has just bee...</td>\n",
       "      <td>2019-03-01</td>\n",
       "      <td>3</td>\n",
       "    </tr>\n",
       "    <tr>\n",
       "      <td>356987</td>\n",
       "      <td>way go lower</td>\n",
       "      <td>ehj9efq</td>\n",
       "      <td>aw0ve0</td>\n",
       "      <td>1.551417e+09</td>\n",
       "      <td>It looks like the purchase button has just bee...</td>\n",
       "      <td>2019-03-01</td>\n",
       "      <td>3</td>\n",
       "    </tr>\n",
       "    <tr>\n",
       "      <td>356988</td>\n",
       "      <td>maybe think see guy talk how cool traffic ligh...</td>\n",
       "      <td>ehjcu0g</td>\n",
       "      <td>aw0ve0</td>\n",
       "      <td>1.551417e+09</td>\n",
       "      <td>It looks like the purchase button has just bee...</td>\n",
       "      <td>2019-03-01</td>\n",
       "      <td>3</td>\n",
       "    </tr>\n",
       "    <tr>\n",
       "      <td>356989</td>\n",
       "      <td>go low already less post purchase think pay ju...</td>\n",
       "      <td>ehj9jie</td>\n",
       "      <td>aw0ve0</td>\n",
       "      <td>1.551417e+09</td>\n",
       "      <td>It looks like the purchase button has just bee...</td>\n",
       "      <td>2019-03-01</td>\n",
       "      <td>3</td>\n",
       "    </tr>\n",
       "  </tbody>\n",
       "</table>\n",
       "<p>356990 rows × 7 columns</p>\n",
       "</div>"
      ],
      "text/plain": [
       "                                                  comment comment_id post_id  \\\n",
       "0       reminder include price wall connector include ...    epkqq0x  bv2t27   \n",
       "1                          blue performance model confirm    epkl3uo  bv2t27   \n",
       "2       live too base same option same delivery estima...    epklx56  bv2t27   \n",
       "3       congrat come pretty soon too sadly can fork ri...    epklo12  bv2t27   \n",
       "4       standard range autopilot come well luxury car ...    epklvos  bv2t27   \n",
       "...                                                   ...        ...     ...   \n",
       "356985  mid when switch then wording where say pricing...    ehj8nkn  aw0ve0   \n",
       "356986    promise past will free hardware upgrade buy now    ehj9mwp  aw0ve0   \n",
       "356987                                       way go lower    ehj9efq  aw0ve0   \n",
       "356988  maybe think see guy talk how cool traffic ligh...    ehjcu0g  aw0ve0   \n",
       "356989  go low already less post purchase think pay ju...    ehj9jie  aw0ve0   \n",
       "\n",
       "           post_time                                         post_title  \\\n",
       "0       1.559275e+09           Australian model 3 Configurator is live!   \n",
       "1       1.559275e+09           Australian model 3 Configurator is live!   \n",
       "2       1.559275e+09           Australian model 3 Configurator is live!   \n",
       "3       1.559275e+09           Australian model 3 Configurator is live!   \n",
       "4       1.559275e+09           Australian model 3 Configurator is live!   \n",
       "...              ...                                                ...   \n",
       "356985  1.551417e+09  It looks like the purchase button has just bee...   \n",
       "356986  1.551417e+09  It looks like the purchase button has just bee...   \n",
       "356987  1.551417e+09  It looks like the purchase button has just bee...   \n",
       "356988  1.551417e+09  It looks like the purchase button has just bee...   \n",
       "356989  1.551417e+09  It looks like the purchase button has just bee...   \n",
       "\n",
       "              time  month  \n",
       "0       2019-05-31      5  \n",
       "1       2019-05-31      5  \n",
       "2       2019-05-31      5  \n",
       "3       2019-05-31      5  \n",
       "4       2019-05-31      5  \n",
       "...            ...    ...  \n",
       "356985  2019-03-01      3  \n",
       "356986  2019-03-01      3  \n",
       "356987  2019-03-01      3  \n",
       "356988  2019-03-01      3  \n",
       "356989  2019-03-01      3  \n",
       "\n",
       "[356990 rows x 7 columns]"
      ]
     },
     "execution_count": 197,
     "metadata": {},
     "output_type": "execute_result"
    }
   ],
   "source": [
    "Tesla"
   ]
  },
  {
   "cell_type": "code",
   "execution_count": 110,
   "metadata": {},
   "outputs": [],
   "source": [
    "Bolt['time'] = Bolt['time'].apply(lambda x: x.split(' ')[0])\n",
    "Leaf['time'] = Leaf['time'].apply(lambda x: x.split(' ')[0])\n",
    "Tesla['time'] = Tesla['time'].apply(lambda x: x.split(' ')[0])"
   ]
  },
  {
   "cell_type": "code",
   "execution_count": 111,
   "metadata": {},
   "outputs": [],
   "source": [
    "Bolt['month'] = Bolt['time'].apply(lambda x: x.split('-')[1])\n",
    "Leaf['month'] = Leaf['time'].apply(lambda x: x.split('-')[1])\n",
    "Tesla['month'] = Tesla['time'].apply(lambda x: x.split('-')[1])"
   ]
  },
  {
   "cell_type": "code",
   "execution_count": 112,
   "metadata": {},
   "outputs": [
    {
     "data": {
      "text/plain": [
       "0       Is there a huge difference in price? Of course...\n",
       "1       The price is almost same. 2016 is $100 cheaper...\n",
       "2       No OP, but mind if I ask why you'd set that pr...\n",
       "3       Does the 2017 have any of the upgraded package...\n",
       "4       I was quoting private seller prices, with a ba...\n",
       "                              ...                        \n",
       "5959    I've got a 2018 LEAF, and while I've never had...\n",
       "5960    I don’t think V2G is as important as we origin...\n",
       "5961    I thought you meant how chademo was originally...\n",
       "5962    Yeah, my local mall has 2 evgo stations with c...\n",
       "5963    Load control wouldn't have anything to do with...\n",
       "Name: comment, Length: 5964, dtype: object"
      ]
     },
     "execution_count": 112,
     "metadata": {},
     "output_type": "execute_result"
    }
   ],
   "source": [
    "Leaf['comment']"
   ]
  },
  {
   "cell_type": "code",
   "execution_count": 113,
   "metadata": {},
   "outputs": [],
   "source": [
    "import re\n",
    "import numpy as np\n",
    "import pandas as pd\n",
    "from pprint import pprint\n",
    "\n",
    "# Gensim\n",
    "import gensim\n",
    "import gensim.corpora as corpora\n",
    "from gensim.utils import simple_preprocess\n",
    "from gensim.models import CoherenceModel\n",
    "\n",
    "# spacy for lemmatization\n",
    "import spacy\n",
    "\n",
    "# Plotting tools\n",
    "import pyLDAvis\n",
    "import pyLDAvis.gensim  # don't skip this\n",
    "import matplotlib.pyplot as plt\n",
    "%matplotlib inline\n",
    "\n",
    "# Enable logging for gensim - optional\n",
    "import logging\n",
    "logging.basicConfig(format='%(asctime)s : %(levelname)s : %(message)s', level=logging.ERROR)\n",
    "\n",
    "import warnings\n",
    "warnings.filterwarnings(\"ignore\",category=DeprecationWarning)"
   ]
  },
  {
   "cell_type": "code",
   "execution_count": 114,
   "metadata": {},
   "outputs": [],
   "source": [
    "def transfer(data):\n",
    "    data = data\n",
    "\n",
    "    def sent_to_words(sentences):\n",
    "        for sentence in sentences:\n",
    "            yield(gensim.utils.simple_preprocess(str(sentence), deacc=True))  # deacc=True removes punctuations\n",
    "\n",
    "    data_words = list(sent_to_words(data))\n",
    "\n",
    "    def lemmatization(texts, allowed_postags=['NOUN', 'ADJ', 'VERB', 'ADV']):\n",
    "        \"\"\"https://spacy.io/api/annotation\"\"\"\n",
    "        texts_out = []\n",
    "        for sent in texts:\n",
    "            doc = nlp(\" \".join(sent)) \n",
    "            texts_out.append(\" \".join([token.lemma_ if token.lemma_ not in ['-PRON-'] else '' for token in doc if token.pos_ in         allowed_postags]))\n",
    "        return texts_out\n",
    "\n",
    "    # Initialize spacy 'en' model, keeping only tagger component (for efficiency)\n",
    "    # Run in terminal: python3 -m spacy download en\n",
    "    nlp = spacy.load('en', disable=['parser', 'ner'])\n",
    "\n",
    "    # Do lemmatization keeping only Noun, Adj, Verb, Adverb\n",
    "    data_lemmatized = lemmatization(data_words, allowed_postags=['NOUN', 'ADJ', 'VERB', 'ADV'])\n",
    "\n",
    "    return data_lemmatized\n"
   ]
  },
  {
   "cell_type": "code",
   "execution_count": 115,
   "metadata": {},
   "outputs": [],
   "source": [
    "Leaf.comment = transfer(Leaf.comment.values.tolist())"
   ]
  },
  {
   "cell_type": "code",
   "execution_count": 116,
   "metadata": {},
   "outputs": [],
   "source": [
    "Bolt.comment = transfer(Bolt.comment.values.tolist())"
   ]
  },
  {
   "cell_type": "code",
   "execution_count": null,
   "metadata": {},
   "outputs": [],
   "source": [
    "Tesla.comment = transfer(Tesla.comment.values.tolist())"
   ]
  },
  {
   "cell_type": "code",
   "execution_count": 195,
   "metadata": {},
   "outputs": [
    {
     "data": {
      "text/html": [
       "<div>\n",
       "<style scoped>\n",
       "    .dataframe tbody tr th:only-of-type {\n",
       "        vertical-align: middle;\n",
       "    }\n",
       "\n",
       "    .dataframe tbody tr th {\n",
       "        vertical-align: top;\n",
       "    }\n",
       "\n",
       "    .dataframe thead th {\n",
       "        text-align: right;\n",
       "    }\n",
       "</style>\n",
       "<table border=\"1\" class=\"dataframe\">\n",
       "  <thead>\n",
       "    <tr style=\"text-align: right;\">\n",
       "      <th></th>\n",
       "      <th>comment</th>\n",
       "      <th>comment_id</th>\n",
       "      <th>post_id</th>\n",
       "      <th>post_time</th>\n",
       "      <th>post_title</th>\n",
       "      <th>time</th>\n",
       "      <th>month</th>\n",
       "    </tr>\n",
       "  </thead>\n",
       "  <tbody>\n",
       "    <tr>\n",
       "      <td>0</td>\n",
       "      <td>precondition charge stat mileage all free year...</td>\n",
       "      <td>epkew7k</td>\n",
       "      <td>bv20re</td>\n",
       "      <td>1.559270e+09</td>\n",
       "      <td>Is remote start/precondition using MyChevrolet...</td>\n",
       "      <td>2019-05-31</td>\n",
       "      <td>05</td>\n",
       "    </tr>\n",
       "    <tr>\n",
       "      <td>1</td>\n",
       "      <td>onstar service precondition app work lock unlo...</td>\n",
       "      <td>epk9lrk</td>\n",
       "      <td>bv20re</td>\n",
       "      <td>1.559270e+09</td>\n",
       "      <td>Is remote start/precondition using MyChevrolet...</td>\n",
       "      <td>2019-05-31</td>\n",
       "      <td>05</td>\n",
       "    </tr>\n",
       "    <tr>\n",
       "      <td>2</td>\n",
       "      <td>cheat handy way use alexa basic connection con...</td>\n",
       "      <td>epke6ad</td>\n",
       "      <td>bv20re</td>\n",
       "      <td>1.559270e+09</td>\n",
       "      <td>Is remote start/precondition using MyChevrolet...</td>\n",
       "      <td>2019-05-31</td>\n",
       "      <td>05</td>\n",
       "    </tr>\n",
       "    <tr>\n",
       "      <td>3</td>\n",
       "      <td>original bolt year basic onstar include other ...</td>\n",
       "      <td>epkv369</td>\n",
       "      <td>bv20re</td>\n",
       "      <td>1.559270e+09</td>\n",
       "      <td>Is remote start/precondition using MyChevrolet...</td>\n",
       "      <td>2019-05-31</td>\n",
       "      <td>05</td>\n",
       "    </tr>\n",
       "    <tr>\n",
       "      <td>4</td>\n",
       "      <td>mine work only when bluetooth range cancel onstar</td>\n",
       "      <td>epk8zjl</td>\n",
       "      <td>bv20re</td>\n",
       "      <td>1.559270e+09</td>\n",
       "      <td>Is remote start/precondition using MyChevrolet...</td>\n",
       "      <td>2019-05-31</td>\n",
       "      <td>05</td>\n",
       "    </tr>\n",
       "  </tbody>\n",
       "</table>\n",
       "</div>"
      ],
      "text/plain": [
       "                                             comment comment_id post_id  \\\n",
       "0  precondition charge stat mileage all free year...    epkew7k  bv20re   \n",
       "1  onstar service precondition app work lock unlo...    epk9lrk  bv20re   \n",
       "2  cheat handy way use alexa basic connection con...    epke6ad  bv20re   \n",
       "3  original bolt year basic onstar include other ...    epkv369  bv20re   \n",
       "4  mine work only when bluetooth range cancel onstar    epk8zjl  bv20re   \n",
       "\n",
       "      post_time                                         post_title  \\\n",
       "0  1.559270e+09  Is remote start/precondition using MyChevrolet...   \n",
       "1  1.559270e+09  Is remote start/precondition using MyChevrolet...   \n",
       "2  1.559270e+09  Is remote start/precondition using MyChevrolet...   \n",
       "3  1.559270e+09  Is remote start/precondition using MyChevrolet...   \n",
       "4  1.559270e+09  Is remote start/precondition using MyChevrolet...   \n",
       "\n",
       "         time month  \n",
       "0  2019-05-31    05  \n",
       "1  2019-05-31    05  \n",
       "2  2019-05-31    05  \n",
       "3  2019-05-31    05  \n",
       "4  2019-05-31    05  "
      ]
     },
     "execution_count": 195,
     "metadata": {},
     "output_type": "execute_result"
    }
   ],
   "source": [
    "Bolt.head()"
   ]
  },
  {
   "cell_type": "code",
   "execution_count": 156,
   "metadata": {},
   "outputs": [
    {
     "data": {
      "text/html": [
       "<div>\n",
       "<style scoped>\n",
       "    .dataframe tbody tr th:only-of-type {\n",
       "        vertical-align: middle;\n",
       "    }\n",
       "\n",
       "    .dataframe tbody tr th {\n",
       "        vertical-align: top;\n",
       "    }\n",
       "\n",
       "    .dataframe thead th {\n",
       "        text-align: right;\n",
       "    }\n",
       "</style>\n",
       "<table border=\"1\" class=\"dataframe\">\n",
       "  <thead>\n",
       "    <tr style=\"text-align: right;\">\n",
       "      <th></th>\n",
       "      <th>comment</th>\n",
       "      <th>comment_id</th>\n",
       "      <th>post_id</th>\n",
       "      <th>post_time</th>\n",
       "      <th>post_title</th>\n",
       "      <th>time</th>\n",
       "      <th>month</th>\n",
       "    </tr>\n",
       "  </thead>\n",
       "  <tbody>\n",
       "    <tr>\n",
       "      <td>0</td>\n",
       "      <td>reminder include price wall connector include ...</td>\n",
       "      <td>epkqq0x</td>\n",
       "      <td>bv2t27</td>\n",
       "      <td>1.559275e+09</td>\n",
       "      <td>Australian model 3 Configurator is live!</td>\n",
       "      <td>2019-05-31</td>\n",
       "      <td>5</td>\n",
       "    </tr>\n",
       "    <tr>\n",
       "      <td>1</td>\n",
       "      <td>blue performance model confirm</td>\n",
       "      <td>epkl3uo</td>\n",
       "      <td>bv2t27</td>\n",
       "      <td>1.559275e+09</td>\n",
       "      <td>Australian model 3 Configurator is live!</td>\n",
       "      <td>2019-05-31</td>\n",
       "      <td>5</td>\n",
       "    </tr>\n",
       "    <tr>\n",
       "      <td>2</td>\n",
       "      <td>live too base same option same delivery estima...</td>\n",
       "      <td>epklx56</td>\n",
       "      <td>bv2t27</td>\n",
       "      <td>1.559275e+09</td>\n",
       "      <td>Australian model 3 Configurator is live!</td>\n",
       "      <td>2019-05-31</td>\n",
       "      <td>5</td>\n",
       "    </tr>\n",
       "    <tr>\n",
       "      <td>3</td>\n",
       "      <td>congrat come pretty soon too sadly can fork ri...</td>\n",
       "      <td>epklo12</td>\n",
       "      <td>bv2t27</td>\n",
       "      <td>1.559275e+09</td>\n",
       "      <td>Australian model 3 Configurator is live!</td>\n",
       "      <td>2019-05-31</td>\n",
       "      <td>5</td>\n",
       "    </tr>\n",
       "    <tr>\n",
       "      <td>4</td>\n",
       "      <td>standard range autopilot come well luxury car ...</td>\n",
       "      <td>epklvos</td>\n",
       "      <td>bv2t27</td>\n",
       "      <td>1.559275e+09</td>\n",
       "      <td>Australian model 3 Configurator is live!</td>\n",
       "      <td>2019-05-31</td>\n",
       "      <td>5</td>\n",
       "    </tr>\n",
       "    <tr>\n",
       "      <td>...</td>\n",
       "      <td>...</td>\n",
       "      <td>...</td>\n",
       "      <td>...</td>\n",
       "      <td>...</td>\n",
       "      <td>...</td>\n",
       "      <td>...</td>\n",
       "      <td>...</td>\n",
       "    </tr>\n",
       "    <tr>\n",
       "      <td>995</td>\n",
       "      <td>notice too last time</td>\n",
       "      <td>epjwrq2</td>\n",
       "      <td>buxg10</td>\n",
       "      <td>1.559245e+09</td>\n",
       "      <td>A Model S coupe in this Los Angeles Airport ad...</td>\n",
       "      <td>2019-05-31</td>\n",
       "      <td>5</td>\n",
       "    </tr>\n",
       "    <tr>\n",
       "      <td>996</td>\n",
       "      <td>man people really try too hard</td>\n",
       "      <td>epj40vi</td>\n",
       "      <td>buxg10</td>\n",
       "      <td>1.559245e+09</td>\n",
       "      <td>A Model S coupe in this Los Angeles Airport ad...</td>\n",
       "      <td>2019-05-30</td>\n",
       "      <td>5</td>\n",
       "    </tr>\n",
       "    <tr>\n",
       "      <td>997</td>\n",
       "      <td>try hard enough</td>\n",
       "      <td>epjm3ox</td>\n",
       "      <td>buxg10</td>\n",
       "      <td>1.559245e+09</td>\n",
       "      <td>A Model S coupe in this Los Angeles Airport ad...</td>\n",
       "      <td>2019-05-30</td>\n",
       "      <td>5</td>\n",
       "    </tr>\n",
       "    <tr>\n",
       "      <td>998</td>\n",
       "      <td>very few fact base youtube video battery base ...</td>\n",
       "      <td>epkwzok</td>\n",
       "      <td>bux9gt</td>\n",
       "      <td>1.559244e+09</td>\n",
       "      <td>How Tesla batteries work, Sean Mitchell with P...</td>\n",
       "      <td>2019-05-31</td>\n",
       "      <td>5</td>\n",
       "    </tr>\n",
       "    <tr>\n",
       "      <td>999</td>\n",
       "      <td>exactly</td>\n",
       "      <td>epkx8i1</td>\n",
       "      <td>bux9gt</td>\n",
       "      <td>1.559244e+09</td>\n",
       "      <td>How Tesla batteries work, Sean Mitchell with P...</td>\n",
       "      <td>2019-05-31</td>\n",
       "      <td>5</td>\n",
       "    </tr>\n",
       "  </tbody>\n",
       "</table>\n",
       "<p>1000 rows × 7 columns</p>\n",
       "</div>"
      ],
      "text/plain": [
       "                                               comment comment_id post_id  \\\n",
       "0    reminder include price wall connector include ...    epkqq0x  bv2t27   \n",
       "1                       blue performance model confirm    epkl3uo  bv2t27   \n",
       "2    live too base same option same delivery estima...    epklx56  bv2t27   \n",
       "3    congrat come pretty soon too sadly can fork ri...    epklo12  bv2t27   \n",
       "4    standard range autopilot come well luxury car ...    epklvos  bv2t27   \n",
       "..                                                 ...        ...     ...   \n",
       "995                               notice too last time    epjwrq2  buxg10   \n",
       "996                     man people really try too hard    epj40vi  buxg10   \n",
       "997                                    try hard enough    epjm3ox  buxg10   \n",
       "998  very few fact base youtube video battery base ...    epkwzok  bux9gt   \n",
       "999                                            exactly    epkx8i1  bux9gt   \n",
       "\n",
       "        post_time                                         post_title  \\\n",
       "0    1.559275e+09           Australian model 3 Configurator is live!   \n",
       "1    1.559275e+09           Australian model 3 Configurator is live!   \n",
       "2    1.559275e+09           Australian model 3 Configurator is live!   \n",
       "3    1.559275e+09           Australian model 3 Configurator is live!   \n",
       "4    1.559275e+09           Australian model 3 Configurator is live!   \n",
       "..            ...                                                ...   \n",
       "995  1.559245e+09  A Model S coupe in this Los Angeles Airport ad...   \n",
       "996  1.559245e+09  A Model S coupe in this Los Angeles Airport ad...   \n",
       "997  1.559245e+09  A Model S coupe in this Los Angeles Airport ad...   \n",
       "998  1.559244e+09  How Tesla batteries work, Sean Mitchell with P...   \n",
       "999  1.559244e+09  How Tesla batteries work, Sean Mitchell with P...   \n",
       "\n",
       "           time  month  \n",
       "0    2019-05-31      5  \n",
       "1    2019-05-31      5  \n",
       "2    2019-05-31      5  \n",
       "3    2019-05-31      5  \n",
       "4    2019-05-31      5  \n",
       "..          ...    ...  \n",
       "995  2019-05-31      5  \n",
       "996  2019-05-30      5  \n",
       "997  2019-05-30      5  \n",
       "998  2019-05-31      5  \n",
       "999  2019-05-31      5  \n",
       "\n",
       "[1000 rows x 7 columns]"
      ]
     },
     "execution_count": 156,
     "metadata": {},
     "output_type": "execute_result"
    }
   ],
   "source": [
    "Tesla.head(1000)"
   ]
  },
  {
   "cell_type": "code",
   "execution_count": 182,
   "metadata": {},
   "outputs": [],
   "source": [
    "Tesla.month = Tesla.month.apply(str)"
   ]
  },
  {
   "cell_type": "code",
   "execution_count": 192,
   "metadata": {},
   "outputs": [],
   "source": [
    "Tesla['month']= Tesla['month'].astype(str)"
   ]
  },
  {
   "cell_type": "code",
   "execution_count": null,
   "metadata": {},
   "outputs": [],
   "source": [
    "Topic: CEO\n",
    "\n",
    "[(8,\n",
    "  [('elon', 0.04012874658471498),\n",
    "   ('musk', 0.0160751385435088),\n",
    "   ('state', 0.01253824437301959),\n",
    "   ('tweet', 0.011551732759913988),\n",
    "   ('fact', 0.009828747039328626),\n",
    "   ('law', 0.009737824310010138),\n",
    "   ('sec', 0.009610532488964254),\n",
    "   ('claim', 0.00939231793859988),\n",
    "   ('public', 0.00936049498333841),\n",
    "   ('word', 0.008869512245018571)]),\n",
    "\n",
    "Topic: Truck production\n",
    "\n",
    " (11,\n",
    "  [('tesla', 0.034165642136486936),\n",
    "   ('make', 0.030916417852194445),\n",
    "   ('truck', 0.028833206486739652),\n",
    "   ('big', 0.024993657670315944),\n",
    "   ('production', 0.02241281736041996),\n",
    "   ('build', 0.021398044610971254),\n",
    "   ('start', 0.02133950002927229),\n",
    "   ('line', 0.021061413266202214),\n",
    "   ('design', 0.01714380500751322),\n",
    "   ('end', 0.01449954140077669)]),\n",
    " Topic: Energy efficiency\n",
    "\n",
    " (10,\n",
    "  [('battery', 0.05482402086063075),\n",
    "   ('mile', 0.05154616884829772),\n",
    "   ('range', 0.04227045306141864),\n",
    "   ('power', 0.028229311261886537),\n",
    "   ('high', 0.01578817638130327),\n",
    "   ('gas', 0.015433580253320015),\n",
    "   ('pack', 0.013409787718000943),\n",
    "   ('low', 0.012990326444654896),\n",
    "   ('rate', 0.012986002101630709),\n",
    "   ('energy', 0.012302755903809314)]),\n",
    "Topic: Driver experience\n",
    "\n",
    " ((12,\n",
    "  [('change', 0.045256801788868296),\n",
    "   ('lane', 0.04209843996067274),\n",
    "   ('road', 0.03150966215099232),\n",
    "   ('stop', 0.030104495662690436),\n",
    "   ('driver', 0.029669459598200693),\n",
    "   ('speed', 0.023696414432756475),\n",
    "   ('turn', 0.02336578702374427),\n",
    "   ('brake', 0.018214960020185675),\n",
    "   ('traffic', 0.01758850808732044),\n",
    "   ('move', 0.017562405923451055)])\n",
    "\n"
   ]
  },
  {
   "cell_type": "code",
   "execution_count": 198,
   "metadata": {},
   "outputs": [],
   "source": [
    "def select(dataframe):\n",
    "    df = dataframe\n",
    "    df = df[df.month == '5' ] ### Select the month here !\n",
    "    # Cost\n",
    "    criteria=['elon','musk','state','tweet','fact','law','sec','claim','public','word'] ### Change the topic word here !!! \n",
    "    new=[]\n",
    "    for i in df['comment']:\n",
    "        \n",
    "        if any(ext in i for ext in criteria):\n",
    "            \n",
    "            new.append(i)\n",
    "    sentiment_scores = [af.score(article) for article in new]\n",
    "    sentiment_category = ['positive' if score > 0 \n",
    "                          else 'negative' if score < 0 \n",
    "                              else 'neutral' \n",
    "                                  for score in sentiment_scores]\n",
    "    df = pd.DataFrame([new, sentiment_scores, sentiment_category]).T\n",
    "    df.columns = ['comment', 'sentiment_score', 'sentiment_category']\n",
    "    df['sentiment_score'] = df.sentiment_score.astype('float')\n",
    "    return df\n",
    "\n"
   ]
  },
  {
   "cell_type": "code",
   "execution_count": 69,
   "metadata": {},
   "outputs": [],
   "source": [
    "Leaf_3 = select(Leaf)"
   ]
  },
  {
   "cell_type": "code",
   "execution_count": 71,
   "metadata": {},
   "outputs": [],
   "source": [
    "Leaf_4 = select(Leaf)"
   ]
  },
  {
   "cell_type": "code",
   "execution_count": 73,
   "metadata": {},
   "outputs": [],
   "source": [
    "Leaf_5 = select(Leaf)"
   ]
  },
  {
   "cell_type": "code",
   "execution_count": 89,
   "metadata": {},
   "outputs": [],
   "source": [
    "Bolt_3_Dexp = select(Bolt)"
   ]
  },
  {
   "cell_type": "code",
   "execution_count": 91,
   "metadata": {},
   "outputs": [],
   "source": [
    "Bolt_4_Dexp = select(Bolt)"
   ]
  },
  {
   "cell_type": "code",
   "execution_count": 93,
   "metadata": {},
   "outputs": [],
   "source": [
    "Bolt_5_Dexp = select(Bolt)"
   ]
  },
  {
   "cell_type": "code",
   "execution_count": 95,
   "metadata": {},
   "outputs": [],
   "source": [
    "Bolt_3_Ser = select(Bolt)"
   ]
  },
  {
   "cell_type": "code",
   "execution_count": 97,
   "metadata": {},
   "outputs": [],
   "source": [
    "Bolt_4_Ser = select(Bolt)"
   ]
  },
  {
   "cell_type": "code",
   "execution_count": 99,
   "metadata": {},
   "outputs": [],
   "source": [
    "Bolt_5_Ser = select(Bolt)"
   ]
  },
  {
   "cell_type": "code",
   "execution_count": 101,
   "metadata": {},
   "outputs": [],
   "source": [
    "Bolt_3_Enef = select(Bolt)"
   ]
  },
  {
   "cell_type": "code",
   "execution_count": 103,
   "metadata": {},
   "outputs": [],
   "source": [
    "Bolt_4_Enef = select(Bolt)"
   ]
  },
  {
   "cell_type": "code",
   "execution_count": 106,
   "metadata": {},
   "outputs": [],
   "source": [
    "Bolt_5_Enef = select(Bolt)"
   ]
  },
  {
   "cell_type": "code",
   "execution_count": 199,
   "metadata": {},
   "outputs": [],
   "source": [
    "Tesla_5_CEO = select(Tesla)"
   ]
  },
  {
   "cell_type": "code",
   "execution_count": 201,
   "metadata": {},
   "outputs": [
    {
     "data": {
      "text/html": [
       "<div>\n",
       "<style scoped>\n",
       "    .dataframe tbody tr th:only-of-type {\n",
       "        vertical-align: middle;\n",
       "    }\n",
       "\n",
       "    .dataframe tbody tr th {\n",
       "        vertical-align: top;\n",
       "    }\n",
       "\n",
       "    .dataframe thead th {\n",
       "        text-align: right;\n",
       "    }\n",
       "</style>\n",
       "<table border=\"1\" class=\"dataframe\">\n",
       "  <thead>\n",
       "    <tr style=\"text-align: right;\">\n",
       "      <th></th>\n",
       "      <th>comment</th>\n",
       "      <th>sentiment_score</th>\n",
       "      <th>sentiment_category</th>\n",
       "    </tr>\n",
       "  </thead>\n",
       "  <tbody>\n",
       "  </tbody>\n",
       "</table>\n",
       "</div>"
      ],
      "text/plain": [
       "Empty DataFrame\n",
       "Columns: [comment, sentiment_score, sentiment_category]\n",
       "Index: []"
      ]
     },
     "execution_count": 201,
     "metadata": {},
     "output_type": "execute_result"
    }
   ],
   "source": [
    "Tesla_5_CEO"
   ]
  },
  {
   "cell_type": "code",
   "execution_count": 119,
   "metadata": {},
   "outputs": [
    {
     "name": "stdout",
     "output_type": "stream",
     "text": [
      "2.432065217391304 1.3100436681222707 0.7402597402597403\n"
     ]
    }
   ],
   "source": [
    "print(Bolt_3_Dexp.sentiment_score.mean(),\n",
    "Bolt_4_Dexp.sentiment_score.mean(),\n",
    "Bolt_5_Dexp.sentiment_score.mean())"
   ]
  },
  {
   "cell_type": "code",
   "execution_count": 123,
   "metadata": {},
   "outputs": [],
   "source": [
    "Bolt_3_Dexp.to_csv('Bolt_3_Dexp.csv',index=False)\n",
    "Bolt_4_Dexp.to_csv('Bolt_4_Dexp.csv',index=False)\n",
    "Bolt_5_Dexp.to_csv('Bolt_5_Dexp.csv',index=False)\n",
    "Bolt_3_Ser.to_csv('Bolt_3_Ser.csv',index=False)\n",
    "Bolt_4_Ser.to_csv('Bolt_4_Ser.csv',index=False)\n",
    "Bolt_5_Ser.to_csv('Bolt_5_Ser.csv',index=False)\n",
    "Bolt_3_Enef.to_csv('Bolt_3_Enef.csv',index=False)\n",
    "Bolt_4_Enef.to_csv('Bolt_4_Enef.csv',index=False)\n",
    "Bolt_5_Enef.to_csv('Bolt_5_Enef.csv',index=False)\n"
   ]
  },
  {
   "cell_type": "code",
   "execution_count": 126,
   "metadata": {},
   "outputs": [],
   "source": [
    "bolt_enef = [Bolt_3_Enef.sentiment_score.mean(),\n",
    "Bolt_4_Enef.sentiment_score.mean(),\n",
    "Bolt_5_Enef.sentiment_score.mean()]\n",
    "bolt_dexp = [Bolt_3_Dexp.sentiment_score.mean(),\n",
    "Bolt_4_Dexp.sentiment_score.mean(),\n",
    "Bolt_5_Dexp.sentiment_score.mean()]\n",
    "bolt_ser = [Bolt_3_Ser.sentiment_score.mean(),\n",
    "Bolt_4_Ser.sentiment_score.mean(),\n",
    "Bolt_5_Ser.sentiment_score.mean()]"
   ]
  },
  {
   "cell_type": "code",
   "execution_count": 127,
   "metadata": {},
   "outputs": [],
   "source": [
    "bolt = []\n",
    "bolt.append(bolt_dexp)\n",
    "bolt.append(bolt_ser)\n",
    "bolt.append(bolt_enef)\n"
   ]
  },
  {
   "cell_type": "code",
   "execution_count": 129,
   "metadata": {},
   "outputs": [],
   "source": [
    "dbolt = pd.DataFrame(bolt)\n",
    "dbolt.columns = ['Mar','Apr','May']"
   ]
  },
  {
   "cell_type": "code",
   "execution_count": 131,
   "metadata": {},
   "outputs": [],
   "source": [
    "dbolt.rename(index={0:'Driver Experience',1:'Service',2:'Energy Efficiency'},inplace=True)"
   ]
  },
  {
   "cell_type": "code",
   "execution_count": 133,
   "metadata": {},
   "outputs": [],
   "source": [
    "dbolt.to_csv('Bolt_sentiment.csv', index = True)"
   ]
  },
  {
   "cell_type": "code",
   "execution_count": 120,
   "metadata": {},
   "outputs": [
    {
     "name": "stdout",
     "output_type": "stream",
     "text": [
      "2.6297520661157026 1.7560975609756098 1.3062330623306233\n"
     ]
    }
   ],
   "source": [
    "print(Bolt_3_Ser.sentiment_score.mean(),\n",
    "Bolt_4_Ser.sentiment_score.mean(),\n",
    "Bolt_5_Ser.sentiment_score.mean())"
   ]
  },
  {
   "cell_type": "code",
   "execution_count": 125,
   "metadata": {},
   "outputs": [
    {
     "name": "stdout",
     "output_type": "stream",
     "text": [
      "2.6106623586429727 1.9896640826873384 1.4195121951219511\n"
     ]
    }
   ],
   "source": [
    "print(Bolt_3_Enef.sentiment_score.mean(),\n",
    "Bolt_4_Enef.sentiment_score.mean(),\n",
    "Bolt_5_Enef.sentiment_score.mean())"
   ]
  },
  {
   "cell_type": "code",
   "execution_count": 122,
   "metadata": {},
   "outputs": [
    {
     "data": {
      "text/plain": [
       "1.0666613760812633"
      ]
     },
     "execution_count": 122,
     "metadata": {},
     "output_type": "execute_result"
    }
   ],
   "source": [
    "Tesla_3_CEO.sentiment_score.mean()"
   ]
  },
  {
   "cell_type": "code",
   "execution_count": 88,
   "metadata": {},
   "outputs": [
    {
     "name": "stdout",
     "output_type": "stream",
     "text": [
      "1864\n",
      "1133\n",
      "1209\n"
     ]
    }
   ],
   "source": [
    "Bolt_3 = Bolt[Bolt.month == '03' ]\n",
    "Bolt_4 = Bolt[Bolt.month == '04' ]\n",
    "Bolt_5 = Bolt[Bolt.month == '05' ]\n",
    "print(len(Bolt_3))\n",
    "print(len(Bolt_4))\n",
    "print(len(Bolt_5))\n"
   ]
  },
  {
   "cell_type": "code",
   "execution_count": 34,
   "metadata": {},
   "outputs": [
    {
     "ename": "AttributeError",
     "evalue": "'DataFrame' object has no attribute 'month'",
     "output_type": "error",
     "traceback": [
      "\u001b[0;31m---------------------------------------------------------------------------\u001b[0m",
      "\u001b[0;31mAttributeError\u001b[0m                            Traceback (most recent call last)",
      "\u001b[0;32m<ipython-input-34-4268ab36ca36>\u001b[0m in \u001b[0;36m<module>\u001b[0;34m\u001b[0m\n\u001b[0;32m----> 1\u001b[0;31m \u001b[0mLeaf_3\u001b[0m \u001b[0;34m=\u001b[0m \u001b[0mLeaf\u001b[0m\u001b[0;34m[\u001b[0m\u001b[0mLeaf\u001b[0m\u001b[0;34m.\u001b[0m\u001b[0mmonth\u001b[0m \u001b[0;34m==\u001b[0m \u001b[0;34m'03'\u001b[0m \u001b[0;34m]\u001b[0m\u001b[0;34m\u001b[0m\u001b[0;34m\u001b[0m\u001b[0m\n\u001b[0m\u001b[1;32m      2\u001b[0m \u001b[0mLeaf_4\u001b[0m \u001b[0;34m=\u001b[0m \u001b[0mLeaf\u001b[0m\u001b[0;34m[\u001b[0m\u001b[0mLeaf\u001b[0m\u001b[0;34m.\u001b[0m\u001b[0mmonth\u001b[0m \u001b[0;34m==\u001b[0m \u001b[0;34m'04'\u001b[0m \u001b[0;34m]\u001b[0m\u001b[0;34m\u001b[0m\u001b[0;34m\u001b[0m\u001b[0m\n\u001b[1;32m      3\u001b[0m \u001b[0mLeaf_5\u001b[0m \u001b[0;34m=\u001b[0m \u001b[0mLeaf\u001b[0m\u001b[0;34m[\u001b[0m\u001b[0mLeaf\u001b[0m\u001b[0;34m.\u001b[0m\u001b[0mmonth\u001b[0m \u001b[0;34m==\u001b[0m \u001b[0;34m'05'\u001b[0m \u001b[0;34m]\u001b[0m\u001b[0;34m\u001b[0m\u001b[0;34m\u001b[0m\u001b[0m\n\u001b[1;32m      4\u001b[0m \u001b[0mprint\u001b[0m\u001b[0;34m(\u001b[0m\u001b[0mlen\u001b[0m\u001b[0;34m(\u001b[0m\u001b[0mLeaf_3\u001b[0m\u001b[0;34m)\u001b[0m\u001b[0;34m)\u001b[0m\u001b[0;34m\u001b[0m\u001b[0;34m\u001b[0m\u001b[0m\n\u001b[1;32m      5\u001b[0m \u001b[0mprint\u001b[0m\u001b[0;34m(\u001b[0m\u001b[0mlen\u001b[0m\u001b[0;34m(\u001b[0m\u001b[0mLeaf_4\u001b[0m\u001b[0;34m)\u001b[0m\u001b[0;34m)\u001b[0m\u001b[0;34m\u001b[0m\u001b[0;34m\u001b[0m\u001b[0m\n",
      "\u001b[0;32m~/opt/anaconda3/lib/python3.7/site-packages/pandas/core/generic.py\u001b[0m in \u001b[0;36m__getattr__\u001b[0;34m(self, name)\u001b[0m\n\u001b[1;32m   5177\u001b[0m             \u001b[0;32mif\u001b[0m \u001b[0mself\u001b[0m\u001b[0;34m.\u001b[0m\u001b[0m_info_axis\u001b[0m\u001b[0;34m.\u001b[0m\u001b[0m_can_hold_identifiers_and_holds_name\u001b[0m\u001b[0;34m(\u001b[0m\u001b[0mname\u001b[0m\u001b[0;34m)\u001b[0m\u001b[0;34m:\u001b[0m\u001b[0;34m\u001b[0m\u001b[0;34m\u001b[0m\u001b[0m\n\u001b[1;32m   5178\u001b[0m                 \u001b[0;32mreturn\u001b[0m \u001b[0mself\u001b[0m\u001b[0;34m[\u001b[0m\u001b[0mname\u001b[0m\u001b[0;34m]\u001b[0m\u001b[0;34m\u001b[0m\u001b[0;34m\u001b[0m\u001b[0m\n\u001b[0;32m-> 5179\u001b[0;31m             \u001b[0;32mreturn\u001b[0m \u001b[0mobject\u001b[0m\u001b[0;34m.\u001b[0m\u001b[0m__getattribute__\u001b[0m\u001b[0;34m(\u001b[0m\u001b[0mself\u001b[0m\u001b[0;34m,\u001b[0m \u001b[0mname\u001b[0m\u001b[0;34m)\u001b[0m\u001b[0;34m\u001b[0m\u001b[0;34m\u001b[0m\u001b[0m\n\u001b[0m\u001b[1;32m   5180\u001b[0m \u001b[0;34m\u001b[0m\u001b[0m\n\u001b[1;32m   5181\u001b[0m     \u001b[0;32mdef\u001b[0m \u001b[0m__setattr__\u001b[0m\u001b[0;34m(\u001b[0m\u001b[0mself\u001b[0m\u001b[0;34m,\u001b[0m \u001b[0mname\u001b[0m\u001b[0;34m,\u001b[0m \u001b[0mvalue\u001b[0m\u001b[0;34m)\u001b[0m\u001b[0;34m:\u001b[0m\u001b[0;34m\u001b[0m\u001b[0;34m\u001b[0m\u001b[0m\n",
      "\u001b[0;31mAttributeError\u001b[0m: 'DataFrame' object has no attribute 'month'"
     ]
    }
   ],
   "source": [
    "Leaf_3 = Leaf[Leaf.month == '03' ]\n",
    "Leaf_4 = Leaf[Leaf.month == '04' ]\n",
    "Leaf_5 = Leaf[Leaf.month == '05' ]\n",
    "print(len(Leaf_3))\n",
    "print(len(Leaf_4))\n",
    "print(len(Leaf_5))"
   ]
  },
  {
   "cell_type": "code",
   "execution_count": 22,
   "metadata": {},
   "outputs": [
    {
     "name": "stdout",
     "output_type": "stream",
     "text": [
      "3215\n",
      "4004\n",
      "3928\n"
     ]
    }
   ],
   "source": [
    "Tesla_3 = Tesla[Tesla.month == '03' ]\n",
    "Tesla_4 = Tesla[Tesla.month == '04' ]\n",
    "Tesla_5 = Tesla[Tesla.month == '05' ]\n",
    "print(len(Tesla_3))\n",
    "print(len(Tesla_4))\n",
    "print(len(Tesla_5))"
   ]
  },
  {
   "cell_type": "code",
   "execution_count": 76,
   "metadata": {},
   "outputs": [],
   "source": [
    "Leaf_3.to_csv('Leaf_3_2.csv',index=False)"
   ]
  },
  {
   "cell_type": "code",
   "execution_count": 78,
   "metadata": {},
   "outputs": [
    {
     "data": {
      "text/plain": [
       "1.1727272727272726"
      ]
     },
     "execution_count": 78,
     "metadata": {},
     "output_type": "execute_result"
    }
   ],
   "source": [
    "Leaf_3.sentiment_score.mean()"
   ]
  },
  {
   "cell_type": "code",
   "execution_count": 75,
   "metadata": {},
   "outputs": [],
   "source": [
    "Leaf_4.to_csv('Leaf_4_2.csv',index=False)"
   ]
  },
  {
   "cell_type": "code",
   "execution_count": 79,
   "metadata": {},
   "outputs": [
    {
     "data": {
      "text/plain": [
       "0.8267326732673267"
      ]
     },
     "execution_count": 79,
     "metadata": {},
     "output_type": "execute_result"
    }
   ],
   "source": [
    "Leaf_4.sentiment_score.mean()"
   ]
  },
  {
   "cell_type": "code",
   "execution_count": 74,
   "metadata": {},
   "outputs": [],
   "source": [
    "Leaf_5.to_csv('Leaf_5_2.csv',index=False)"
   ]
  },
  {
   "cell_type": "code",
   "execution_count": 80,
   "metadata": {},
   "outputs": [
    {
     "data": {
      "text/plain": [
       "1.5340314136125655"
      ]
     },
     "execution_count": 80,
     "metadata": {},
     "output_type": "execute_result"
    }
   ],
   "source": [
    "Leaf_5.sentiment_score.mean()"
   ]
  },
  {
   "cell_type": "code",
   "execution_count": 124,
   "metadata": {},
   "outputs": [],
   "source": [
    "Leaf3_1 = pd.read_csv('Leaf_3.csv',sep=',')\n",
    "Leaf4_1 = pd.read_csv('Leaf_4.csv',sep=',')\n",
    "Leaf5_1 = pd.read_csv('Leaf_5.csv',sep=',')\n",
    "\n",
    "Leaf3_1.to_csv('Leaf_3_Per.csv',index=False)\n",
    "Leaf4_1.to_csv('Leaf_4_Per.csv',index=False)\n",
    "Leaf5_1.to_csv('Leaf_5_Per.csv',index=False)\n",
    "Leaf3_2.to_csv('Leaf_3_Wor.csv',index=False)\n",
    "Leaf4_2.to_csv('Leaf_4_Wor.csv',index=False)\n",
    "Leaf5_2.to_csv('Leaf_5_Wor.csv',index=False)\n",
    "Leaf_3.to_csv('Leaf_3_Ext.csv',index=False)\n",
    "Leaf_4.to_csv('Leaf_4_Ext.csv',index=False)\n",
    "Leaf_5.to_csv('Leaf_5_Ext.csv',index=False)"
   ]
  },
  {
   "cell_type": "code",
   "execution_count": 134,
   "metadata": {},
   "outputs": [],
   "source": [
    "Leaf_per = [Leaf3_1.sentiment_score.mean(),\n",
    "Leaf4_1.sentiment_score.mean(),\n",
    "Leaf5_1.sentiment_score.mean()]\n",
    "Leaf_wor = [Leaf3_2.sentiment_score.mean(),\n",
    "Leaf4_2.sentiment_score.mean(),\n",
    "Leaf5_2.sentiment_score.mean()]\n",
    "Leaf_ext = [Leaf_3.sentiment_score.mean(),\n",
    "Leaf_4.sentiment_score.mean(),\n",
    "Leaf_5.sentiment_score.mean()]"
   ]
  },
  {
   "cell_type": "code",
   "execution_count": 135,
   "metadata": {},
   "outputs": [],
   "source": [
    "leaf = []\n",
    "leaf.append(Leaf_per)\n",
    "leaf.append(Leaf_wor)\n",
    "leaf.append(Leaf_ext)"
   ]
  },
  {
   "cell_type": "code",
   "execution_count": 137,
   "metadata": {},
   "outputs": [],
   "source": [
    "dleaf = pd.DataFrame(leaf)\n",
    "dleaf.columns = ['Mar','Apr','May']"
   ]
  },
  {
   "cell_type": "code",
   "execution_count": 138,
   "metadata": {},
   "outputs": [],
   "source": [
    "dleaf.rename(index={0:'Car Performance/ Engine problem',1:'Worth/ Value',2:'Exterior Design'},inplace=True)"
   ]
  },
  {
   "cell_type": "code",
   "execution_count": 139,
   "metadata": {},
   "outputs": [],
   "source": [
    "dleaf.to_csv('Leaf_sentiment.csv', index = True)"
   ]
  }
 ],
 "metadata": {
  "kernelspec": {
   "display_name": "Python 3",
   "language": "python",
   "name": "python3"
  },
  "language_info": {
   "codemirror_mode": {
    "name": "ipython",
    "version": 3
   },
   "file_extension": ".py",
   "mimetype": "text/x-python",
   "name": "python",
   "nbconvert_exporter": "python",
   "pygments_lexer": "ipython3",
   "version": "3.6.5"
  }
 },
 "nbformat": 4,
 "nbformat_minor": 2
}
